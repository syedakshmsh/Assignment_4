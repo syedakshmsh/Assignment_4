{
  "nbformat": 4,
  "nbformat_minor": 0,
  "metadata": {
    "colab": {
      "provenance": [],
      "authorship_tag": "ABX9TyMe0iEiiXzgEPp6ltxnzG/Z",
      "include_colab_link": true
    },
    "kernelspec": {
      "name": "python3",
      "display_name": "Python 3"
    },
    "language_info": {
      "name": "python"
    }
  },
  "cells": [
    {
      "cell_type": "markdown",
      "metadata": {
        "id": "view-in-github",
        "colab_type": "text"
      },
      "source": [
        "<a href=\"https://colab.research.google.com/github/syedakshmsh/Assignment_4/blob/main/dict.ipynb\" target=\"_parent\"><img src=\"https://colab.research.google.com/assets/colab-badge.svg\" alt=\"Open In Colab\"/></a>"
      ]
    },
    {
      "cell_type": "code",
      "execution_count": 20,
      "metadata": {
        "colab": {
          "base_uri": "https://localhost:8080/"
        },
        "id": "AyqZ4QiTI3aq",
        "outputId": "2c63aa22-d388-4699-cfd9-0e76f4805be2"
      },
      "outputs": [
        {
          "output_type": "stream",
          "name": "stdout",
          "text": [
            "00_count_nums\n",
            "Enter a number ( or Exit to quit):3\n",
            "\n",
            " Number Counts:\n",
            "3 appears 1 times\n"
          ]
        }
      ],
      "source": [
        "print(\"00_count_nums\")\n",
        "\n",
        "def count_numbers():\n",
        "  count_dict = {}\n",
        "\n",
        "  while True:\n",
        "    num = int(input(\"Enter a number ( or Exit to quit):\"))\n",
        "    if num == \"\":\n",
        "      break\n",
        "\n",
        "    num = int(num)\n",
        "    count_dict[num] = count_dict.get(num , 0) + 1\n",
        "\n",
        "    return count_dict\n",
        "\n",
        "def display_counts(count_dict):\n",
        "  print(\"\\n Number Counts:\")\n",
        "  for key,value in count_dict.items():\n",
        "    print(f\"{key} appears {value} times\")\n",
        "\n",
        "if __name__ == \"__main__\":\n",
        "    counts = count_numbers()\n",
        "    display_counts(counts)\n",
        "\n"
      ]
    },
    {
      "cell_type": "code",
      "source": [
        "print('01_phone_book')\n",
        "\n",
        "def add_contact(phonebook):\n",
        "  name = input(\"Enter contact name: \")\n",
        "  phone = input(\"Enter contact phone number: \")\n",
        "\n",
        "  if name in phonebook:\n",
        "    print(f\"{name} already exists in the phonebook\")\n",
        "  else:\n",
        "    phonebook[name] = phone\n",
        "    print(f\"{name} has been added to the phonebook\")\n",
        "\n",
        "def search_contact(phonebook):\n",
        "  name = input(\"Enter contact name to search: \")\n",
        "\n",
        "  if name in phonebook:\n",
        "    print(f\"{name}'s phone number is {phonebook[name]}\")\n",
        "\n",
        "  else:\n",
        "    print(f\"{name} not found in the phonebook\")\n",
        "\n",
        "def display_phonebook(phonebook):\n",
        "  if phonebook:\n",
        "   print(\"\\n Phonebook:\")\n",
        "   for name, phone in phonebook.items():\n",
        "     print(f\"{name}: {phone}\")\n",
        "   else:\n",
        "    print(\"Phonebook is empty\")\n",
        "\n",
        "\n",
        "if __name__ == \"__main__\":\n",
        "    phonebook = {}\n",
        "\n",
        "    while True:\n",
        "      print(\"\\n Phonebook Menu:\")\n",
        "      print(\"1. Add contact\")\n",
        "      print(\"2. Search contact\")\n",
        "      print(\"3. Display phonebook\")\n",
        "      print(\"4. Exit\")\n",
        "      choice = input(\"Enter your choice (1-4): \")\n",
        "      if choice == \"1\":\n",
        "        add_contact(phonebook)\n",
        "      elif choice == \"2\":\n",
        "        search_contact(phonebook)\n",
        "      elif choice == \"3\":\n",
        "        display_phonebook(phonebook)\n",
        "      elif choice == \"4\":\n",
        "        break\n",
        "      else:\n",
        "        print(\"Invalid choice. Please try again.\")\n",
        "\n",
        "\n",
        "\n",
        "\n",
        "\n"
      ],
      "metadata": {
        "colab": {
          "base_uri": "https://localhost:8080/"
        },
        "id": "YXK88jlwS0DK",
        "outputId": "8af3236b-ee34-4c66-e06f-00fc441474ce"
      },
      "execution_count": 4,
      "outputs": [
        {
          "name": "stdout",
          "output_type": "stream",
          "text": [
            "01_pop_up_shop\n",
            "\n",
            " Phonebook Menu:\n",
            "1. Add contact\n",
            "2. Search contact\n",
            "3. Display phonebook\n",
            "4. Exit\n",
            "Enter your choice (1-4): 1\n",
            "Enter contact name: shajiya\n",
            "Enter contact phone number: 03312419388\n",
            "shajiya has been added to the phonebook\n",
            "\n",
            " Phonebook Menu:\n",
            "1. Add contact\n",
            "2. Search contact\n",
            "3. Display phonebook\n",
            "4. Exit\n",
            "Enter your choice (1-4): 2\n",
            "Enter contact name to search: rami\n",
            "rami not found in the phonebook\n",
            "\n",
            " Phonebook Menu:\n",
            "1. Add contact\n",
            "2. Search contact\n",
            "3. Display phonebook\n",
            "4. Exit\n",
            "Enter your choice (1-4): 3\n",
            "\n",
            " Phonebook:\n",
            "shajiya: 03312419388\n",
            "Phonebook is empty\n",
            "\n",
            " Phonebook Menu:\n",
            "1. Add contact\n",
            "2. Search contact\n",
            "3. Display phonebook\n",
            "4. Exit\n",
            "Enter your choice (1-4): 4\n"
          ]
        }
      ]
    },
    {
      "cell_type": "code",
      "source": [
        "print('02_pop_up_shop')\n",
        "\n",
        "print('02_pop_up_shop')\n",
        "\n",
        "def calculate_total_cost():\n",
        "    fruits_price = {\n",
        "        \"apple\": 5.0,\n",
        "        \"mango\": 15.0,\n",
        "        \"orange\": 6.7,\n",
        "        \"kivi\": 12.0,\n",
        "        \"pear\": 6.0,\n",
        "        \"pinaple\": 10.0\n",
        "    }\n",
        "\n",
        "    total_cost = 0\n",
        "\n",
        "    for fruit, price in fruits_price.items():\n",
        "        while True:\n",
        "            try:\n",
        "                quantity = int(input(f'How many {fruit}s do you want? '))\n",
        "                if quantity < 0:\n",
        "                    print(\"Invalid input, please enter a non-negative number.\")\n",
        "                    continue\n",
        "                total_cost += price * quantity\n",
        "                break\n",
        "            except ValueError:\n",
        "                print(\"Invalid input, please enter a valid number.\")\n",
        "\n",
        "    print(f\"\\nYour total cost is: ${total_cost:.2f}\")\n",
        "\n",
        "if __name__ == '__main__':\n",
        "    calculate_total_cost()\n"
      ],
      "metadata": {
        "colab": {
          "base_uri": "https://localhost:8080/"
        },
        "id": "M7a_uiM0W4-h",
        "outputId": "153caafd-0cc6-47a9-ba00-1cf9b02815d1"
      },
      "execution_count": 7,
      "outputs": [
        {
          "output_type": "stream",
          "name": "stdout",
          "text": [
            "02_pop_up_shop\n",
            "02_pop_up_shop\n",
            "How many apples do you want? 5\n",
            "How many mangos do you want? 15\n",
            "How many oranges do you want? 6\n",
            "How many kivis do you want? 12\n",
            "How many pears do you want? 6\n",
            "How many pinaples do you want? 10\n",
            "\n",
            "Your total cost is: $570.20\n"
          ]
        }
      ]
    },
    {
      "cell_type": "code",
      "source": [
        "import hashlib\n",
        "print('05_loops_control_flow')\n",
        "\n",
        "def hash_password(password):\n",
        "  return hashlib.sha256(password.encode()).hexdigest()\n",
        "store_logins = {\n",
        "    \"user@example.com\":hash_password(\"password123\"),\n",
        "    \"admin@example.com\":hash_password(\"adminpass\")\n",
        "}\n",
        "def login(emails,password):\n",
        "  if email in store_logins:\n",
        "    return store_logins[emails] == hash_password(password)\n",
        "  return False\n",
        "\n",
        "if __name__ == '__main__':\n",
        "  email = input(\"Enter your email: \")\n",
        "  password = input(\"Enter your password: \")\n",
        "\n",
        "  if login(email,password):\n",
        "    print(\"Login successfull\")\n",
        "  else:\n",
        "    print(\"invalid email or password\")\n",
        "\n",
        "\n",
        "\n"
      ],
      "metadata": {
        "colab": {
          "base_uri": "https://localhost:8080/"
        },
        "id": "HOrOTOgrcpJO",
        "outputId": "5a27a06c-99df-4e3b-c379-1a199785feb9"
      },
      "execution_count": 6,
      "outputs": [
        {
          "output_type": "stream",
          "name": "stdout",
          "text": [
            "05_loops_control_flow\n",
            "Enter your password: password123\n",
            "Login successfull\n"
          ]
        }
      ]
    },
    {
      "cell_type": "code",
      "source": [],
      "metadata": {
        "id": "0Gcofb85eVhb"
      },
      "execution_count": null,
      "outputs": []
    }
  ]
}