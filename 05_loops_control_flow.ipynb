{
  "nbformat": 4,
  "nbformat_minor": 0,
  "metadata": {
    "colab": {
      "provenance": [],
      "authorship_tag": "ABX9TyNKQP7WonDZpyQB//Rjhto7",
      "include_colab_link": true
    },
    "kernelspec": {
      "name": "python3",
      "display_name": "Python 3"
    },
    "language_info": {
      "name": "python"
    }
  },
  "cells": [
    {
      "cell_type": "markdown",
      "metadata": {
        "id": "view-in-github",
        "colab_type": "text"
      },
      "source": [
        "<a href=\"https://colab.research.google.com/github/syedakshmsh/Assignment_4/blob/main/05_loops_control_flow.ipynb\" target=\"_parent\"><img src=\"https://colab.research.google.com/assets/colab-badge.svg\" alt=\"Open In Colab\"/></a>"
      ]
    },
    {
      "cell_type": "code",
      "execution_count": null,
      "metadata": {
        "colab": {
          "base_uri": "https://localhost:8080/"
        },
        "id": "xvUISVIcjGE0",
        "outputId": "e83830b3-a0f6-41a4-888e-19b35b0cc79c"
      },
      "outputs": [
        {
          "output_type": "stream",
          "name": "stdout",
          "text": [
            "00_guess_my_number\n",
            "I'm thinking of a number between 1 and 100.\n",
            "What's your guess? 78\n",
            "Too low. Try again.\n",
            "What's your guess? 6\n",
            "Congratulations! You guessed the number!\n",
            "Too low. Try again.\n",
            "What's your guess? 6\n",
            "Congratulations! You guessed the number!\n",
            "Too low. Try again.\n",
            "What's your guess? 34\n",
            "Congratulations! You guessed the number!\n",
            "Too low. Try again.\n",
            "What's your guess? 9\n",
            "Congratulations! You guessed the number!\n",
            "Too low. Try again.\n",
            "What's your guess? 100\n",
            "Congratulations! You guessed the number!\n",
            "Too high. Try again.\n",
            "What's your guess? 65\n",
            "Congratulations! You guessed the number!\n",
            "Too low. Try again.\n",
            "What's your guess? 23\n",
            "Congratulations! You guessed the number!\n",
            "Too low. Try again.\n",
            "What's your guess? 7\n",
            "Congratulations! You guessed the number!\n",
            "Too low. Try again.\n",
            "What's your guess? 67\n",
            "Congratulations! You guessed the number!\n",
            "Too low. Try again.\n",
            "What's your guess? 09\n",
            "Congratulations! You guessed the number!\n",
            "Too low. Try again.\n",
            "What's your guess? 19\n",
            "Congratulations! You guessed the number!\n",
            "Too low. Try again.\n",
            "What's your guess? 67\n",
            "Congratulations! You guessed the number!\n",
            "Too low. Try again.\n"
          ]
        }
      ],
      "source": [
        "# prompt: print(\"00_guess_my_number)\n",
        "import random #hum random number generate krwasaky\n",
        "print(\"00_guess_my_number\")\n",
        "\n",
        "\n",
        "def main():\n",
        "  secret_number = random.randint(1,100)\n",
        "  print(\"I'm thinking of a number between 1 and 100.\")\n",
        "\n",
        "\n",
        "  guess = int(input(\"What's your guess? \"))\n",
        "\n",
        "  while guess != secret_number:  # loop hum jb tk chlyengy jb tk user gues na krly number\n",
        "    if guess > secret_number:\n",
        "      print(\"Too high. Try again.\")\n",
        "    else:\n",
        "      print(\"Too low. Try again.\")\n",
        "    guess = int(input(\"What's your guess? \"))\n",
        "\n",
        "    print(\"Congratulations! You guessed the number!\")\n",
        "\n",
        "if __name__ == \"__main__\":\n",
        "  main()\n",
        "\n"
      ]
    },
    {
      "cell_type": "code",
      "source": [
        "print(\"01_fibonacci\")\n",
        "\n",
        "max_value = 10000\n",
        "\n",
        "def main():\n",
        "  a,b = 0,1\n",
        "  print(a, end=' ')\n",
        "  while True:\n",
        "   c = a + b\n",
        "   if c >= max_value:\n",
        "      break\n",
        "  print(c, end=' ')\n",
        "  a, b = b, c\n",
        "\n",
        "\n",
        "\n",
        "\n",
        "if __name__ == \"__main__\":\n",
        "  main()\n",
        "\n",
        "\n",
        "\n",
        "\n",
        "\n"
      ],
      "metadata": {
        "colab": {
          "base_uri": "https://localhost:8080/"
        },
        "id": "-cTxvxsAmmRw",
        "outputId": "6df3389d-1079-476b-b500-a78ef7bdd82f"
      },
      "execution_count": 1,
      "outputs": [
        {
          "output_type": "stream",
          "name": "stdout",
          "text": [
            "01_fibonacci\n",
            "0 1 2 3 5 8 13 21 34 55 89 144 233 377 610 987 1597 2584 4181 6765 "
          ]
        }
      ]
    },
    {
      "cell_type": "code",
      "source": [
        "print(\"02_print_events\")\n",
        "\n",
        "def main():\n",
        "  for i in range(20):\n",
        "\n",
        "      print(i * 2)\n",
        "\n",
        "if __name__ == \"__main__\":\n",
        "  main()"
      ],
      "metadata": {
        "colab": {
          "base_uri": "https://localhost:8080/"
        },
        "id": "NxDaTAJsDOTY",
        "outputId": "caf58b13-b2f0-4252-95e2-04f3e9bf9dfb"
      },
      "execution_count": 5,
      "outputs": [
        {
          "output_type": "stream",
          "name": "stdout",
          "text": [
            "02_print_events\n",
            "0\n",
            "2\n",
            "4\n",
            "6\n",
            "8\n",
            "10\n",
            "12\n",
            "14\n",
            "16\n",
            "18\n",
            "20\n",
            "22\n",
            "24\n",
            "26\n",
            "28\n",
            "30\n",
            "32\n",
            "34\n",
            "36\n",
            "38\n"
          ]
        }
      ]
    },
    {
      "cell_type": "code",
      "source": [
        "print(\"03_wholesome_machine\")\n",
        "\n",
        "correct_affermation = \"i am capable of doing anything, i put my mind TOO\"\n",
        "\n",
        "\n",
        "def main():\n",
        "  print(\"welcome to the wholesome machine\")\n",
        "  while True:\n",
        "    user_input = input(\"please type the following affermation: \" + correct_affermation)\n",
        "    if user_input == correct_affermation:\n",
        "      print(\"That's right:\")\n",
        "      break\n",
        "    else:\n",
        "      print(\"That's not right\")\n",
        "\n",
        "if __name__ == \"__main__\":\n",
        "  main()"
      ],
      "metadata": {
        "colab": {
          "base_uri": "https://localhost:8080/"
        },
        "id": "6Agm8yS5EO5H",
        "outputId": "2d6fb218-4424-4a94-80ca-d3248078d8ef"
      },
      "execution_count": 8,
      "outputs": [
        {
          "output_type": "stream",
          "name": "stdout",
          "text": [
            "03_wholesome_machine\n",
            "welcome to the wholesome machine\n",
            "please type the following affermation: i am capable of doing anything, i put my mind TOOi am capable of doing anything, i put my mind TOO\n",
            "That's right:\n"
          ]
        }
      ]
    },
    {
      "cell_type": "code",
      "source": [
        "print(\"04_liftoff\")\n",
        "\n",
        "def main():\n",
        "  for i in range(10,0,-1):\n",
        "    print(i)\n",
        "  print(\"Liftoff!\")\n",
        "\n",
        "if __name__ == \"__main__\":\n",
        "  main()\n"
      ],
      "metadata": {
        "colab": {
          "base_uri": "https://localhost:8080/"
        },
        "id": "H-iiTsQfHwko",
        "outputId": "6bdfeb96-943f-48ef-93fa-11e557bb952d"
      },
      "execution_count": 9,
      "outputs": [
        {
          "output_type": "stream",
          "name": "stdout",
          "text": [
            "04_liftoff\n",
            "10\n",
            "9\n",
            "8\n",
            "7\n",
            "6\n",
            "5\n",
            "4\n",
            "3\n",
            "2\n",
            "1\n",
            "Liftoff!\n"
          ]
        }
      ]
    },
    {
      "cell_type": "code",
      "source": [
        "print(\"05_double_it\")\n",
        "\n",
        "def main():\n",
        "  user_value = int(input(\"please enter a number: \"))\n",
        "  while user_value < 100:\n",
        "    user_value *= 2\n",
        "    print(user_value)\n",
        "\n",
        "if __name__ == \"__main__\":\n",
        "  main()"
      ],
      "metadata": {
        "colab": {
          "base_uri": "https://localhost:8080/"
        },
        "id": "VRjyPxYqIItH",
        "outputId": "beb7bb5c-2e0f-419e-b1dd-5aaa2b0bb48b"
      },
      "execution_count": 12,
      "outputs": [
        {
          "output_type": "stream",
          "name": "stdout",
          "text": [
            "05_double_it\n",
            "please enter a number: 5\n",
            "10\n",
            "20\n",
            "40\n",
            "80\n",
            "160\n"
          ]
        }
      ]
    }
  ]
}