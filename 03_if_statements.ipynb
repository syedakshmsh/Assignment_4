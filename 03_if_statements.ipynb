{
  "nbformat": 4,
  "nbformat_minor": 0,
  "metadata": {
    "colab": {
      "provenance": [],
      "authorship_tag": "ABX9TyMZkcnuk7L97azmRaiVOOQS",
      "include_colab_link": true
    },
    "kernelspec": {
      "name": "python3",
      "display_name": "Python 3"
    },
    "language_info": {
      "name": "python"
    }
  },
  "cells": [
    {
      "cell_type": "markdown",
      "metadata": {
        "id": "view-in-github",
        "colab_type": "text"
      },
      "source": [
        "<a href=\"https://colab.research.google.com/github/syedakshmsh/Assignment_4/blob/main/03_if_statements.ipynb\" target=\"_parent\"><img src=\"https://colab.research.google.com/assets/colab-badge.svg\" alt=\"Open In Colab\"/></a>"
      ]
    },
    {
      "cell_type": "code",
      "execution_count": 10,
      "metadata": {
        "colab": {
          "base_uri": "https://localhost:8080/"
        },
        "id": "uab7guA492tE",
        "outputId": "54db8d97-5118-478c-b69e-1a14081051d6"
      },
      "outputs": [
        {
          "output_type": "stream",
          "name": "stdout",
          "text": [
            "01_print_events\n",
            "here is 20 even number are: 0\n",
            "here is 20 even number are: 2\n",
            "here is 20 even number are: 4\n",
            "here is 20 even number are: 6\n",
            "here is 20 even number are: 8\n",
            "here is 20 even number are: 10\n",
            "here is 20 even number are: 12\n",
            "here is 20 even number are: 14\n",
            "here is 20 even number are: 16\n",
            "here is 20 even number are: 18\n",
            "here is 20 even number are: 20\n",
            "here is 20 even number are: 22\n",
            "here is 20 even number are: 24\n",
            "here is 20 even number are: 26\n",
            "here is 20 even number are: 28\n",
            "here is 20 even number are: 30\n",
            "here is 20 even number are: 32\n",
            "here is 20 even number are: 34\n",
            "here is 20 even number are: 36\n",
            "here is 20 even number are: 38\n",
            "here is 20 even number are: 40\n",
            "here is 20 even number are: 42\n",
            "here is 20 even number are: 44\n",
            "here is 20 even number are: 46\n",
            "here is 20 even number are: 48\n",
            "here is 20 even number are: 50\n",
            "here is 20 even number are: 52\n",
            "here is 20 even number are: 54\n",
            "here is 20 even number are: 56\n",
            "here is 20 even number are: 58\n",
            "here is 20 even number are: 60\n",
            "here is 20 even number are: 62\n",
            "here is 20 even number are: 64\n",
            "here is 20 even number are: 66\n",
            "here is 20 even number are: 68\n",
            "here is 20 even number are: 70\n",
            "here is 20 even number are: 72\n",
            "here is 20 even number are: 74\n",
            "here is 20 even number are: 76\n",
            "here is 20 even number are: 78\n"
          ]
        }
      ],
      "source": [
        "print('01_print_events')\n",
        "\n",
        "def even():\n",
        " for i in range(40):\n",
        "  print(\"here is 20 even number are:\",i * 2)\n",
        "\n",
        "\n",
        "if __name__ == \"__main__\":\n",
        "    even()"
      ]
    },
    {
      "cell_type": "code",
      "source": [
        "print(\"02_international_voting_age.\")\n",
        "\n",
        "Peturksbouipo: int = 16\n",
        "STANLAU : int = 25\n",
        "MAYENGUA : int = 48\n",
        "\n",
        "\n",
        "def main():\n",
        "  age:int = int(input(\"how old are you\"))\n",
        "  if age >= Peturksbouipo:\n",
        "    print(f\"your age is {age}, you are  eligible vote in Peturksbouipo\")\n",
        "  else:\n",
        "    print(f\"your age is {age}, you are not eligible vote in Peturksbouipo \")\n",
        "  if age >= STANLAU:\n",
        "    print(f\"your age is {age}, you are  eligible vote in STANLAU\")\n",
        "  else:\n",
        "    print(f\"your age is {age}, you are not eligible vote in STANLAU\")\n",
        "  if age >= MAYENGUA:\n",
        "    print(f\"your age is {age}, you are  eligible vote in MAYENGUA \")\n",
        "  else:\n",
        "    print(f\"your age is {age}, you are not eligible vote in MAYENGUA\")\n",
        "\n",
        "\n",
        "if __name__ == \"__main__\":\n",
        "    main()\n"
      ],
      "metadata": {
        "colab": {
          "base_uri": "https://localhost:8080/"
        },
        "id": "mAea8BB-B2lX",
        "outputId": "f6180b7c-d0b0-4b63-8791-7e115425d405"
      },
      "execution_count": 15,
      "outputs": [
        {
          "output_type": "stream",
          "name": "stdout",
          "text": [
            "02_international_voting_age.\n",
            "how old are you48\n",
            "your age is 48, you are  eligible vote in Peturksbouipo\n",
            "your age is 48, you are  eligible vote in STANLAU\n",
            "your age is 48, you are  eligible vote in MAYENGUA \n"
          ]
        }
      ]
    },
    {
      "cell_type": "code",
      "source": [
        "print(\"03_leap_year\")\n",
        "\n",
        "\n",
        "def leapyear():\n",
        "  year:int = int(input(\"Enter a year,\"))\n",
        "  if year % 4 == 0:\n",
        "    if year % 100 == 0:\n",
        "      if year % 400 == 0:\n",
        "        print(f\"{year} is a leap year\")\n",
        "      else:\n",
        "        print(f\"{year} is  not a leap year\")\n",
        "    else:\n",
        "       print(f\"{year} is  not a leap year\")\n",
        "  else:\n",
        "     print(f\"{year} is a  not leap year\")\n",
        "\n",
        "if __name__ == \"__main__\":\n",
        "    leapyear()\n"
      ],
      "metadata": {
        "colab": {
          "base_uri": "https://localhost:8080/"
        },
        "id": "vicyaKjAGJNa",
        "outputId": "9d0403ba-96ab-4a8f-a164-5617a56f4e9b"
      },
      "execution_count": 21,
      "outputs": [
        {
          "output_type": "stream",
          "name": "stdout",
          "text": [
            "03_leap_year\n",
            "Enter a year,2060\n",
            "2060 is  not a leap year\n"
          ]
        }
      ]
    },
    {
      "cell_type": "code",
      "source": [
        "print(\"04_tall_enough_to_ride\")\n",
        "\n",
        "\n",
        "minimum_height:int = 45\n",
        "\n",
        "\n",
        "def main():\n",
        "  height:float = int(input(\"how tall are you,\"))\n",
        "  if  height >= minimum_height:\n",
        "    print(\"You're  tall enough to ride\")\n",
        "  else:\n",
        "     print(\"You're not tall enough to ride\")\n",
        "\n",
        "if __name__ == \"__main__\":\n",
        "    main()\n"
      ],
      "metadata": {
        "colab": {
          "base_uri": "https://localhost:8080/"
        },
        "id": "2uVDnFvsNNkT",
        "outputId": "2050456a-b0e5-4d59-bb0d-743d6053387a"
      },
      "execution_count": 25,
      "outputs": [
        {
          "output_type": "stream",
          "name": "stdout",
          "text": [
            "04_tall_enough_to_ride\n",
            "how tall are you,46\n",
            "You're  tall enough to ride\n"
          ]
        }
      ]
    },
    {
      "cell_type": "code",
      "source": [
        "print(\"05_random_numbers\")\n",
        "\n",
        "import random\n",
        "\n",
        "def main():\n",
        "  for i in range(10):\n",
        "    num:list[list] = random.randint(1,100)\n",
        "    print(num)\n",
        "if __name__ == \"__main__\":\n",
        "    main()\n"
      ],
      "metadata": {
        "colab": {
          "base_uri": "https://localhost:8080/"
        },
        "id": "uGDt-n5vQadL",
        "outputId": "9b30fdc6-6ead-4e7e-b383-2b8771100f46"
      },
      "execution_count": 26,
      "outputs": [
        {
          "output_type": "stream",
          "name": "stdout",
          "text": [
            "05_random_numbers\n",
            "75\n",
            "7\n",
            "62\n",
            "43\n",
            "84\n",
            "7\n",
            "88\n",
            "17\n",
            "4\n",
            "43\n"
          ]
        }
      ]
    }
  ]
}