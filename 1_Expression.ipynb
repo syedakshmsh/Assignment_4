{
  "nbformat": 4,
  "nbformat_minor": 0,
  "metadata": {
    "colab": {
      "provenance": [],
      "authorship_tag": "ABX9TyOtnuvJVWwqxxy4brAr40qC",
      "include_colab_link": true
    },
    "kernelspec": {
      "name": "python3",
      "display_name": "Python 3"
    },
    "language_info": {
      "name": "python"
    }
  },
  "cells": [
    {
      "cell_type": "markdown",
      "metadata": {
        "id": "view-in-github",
        "colab_type": "text"
      },
      "source": [
        "<a href=\"https://colab.research.google.com/github/syedakshmsh/Assignment_4/blob/main/1_Expression.ipynb\" target=\"_parent\"><img src=\"https://colab.research.google.com/assets/colab-badge.svg\" alt=\"Open In Colab\"/></a>"
      ]
    },
    {
      "cell_type": "code",
      "execution_count": null,
      "metadata": {
        "colab": {
          "base_uri": "https://localhost:8080/"
        },
        "id": "ZRgm8V0uvbUy",
        "outputId": "40b928a3-531d-4736-cc97-b7ed60e551c4"
      },
      "outputs": [
        {
          "output_type": "stream",
          "name": "stdout",
          "text": [
            "1_dicesimulator\n",
            "die1 in main() start as:10\n",
            "Add of two dice:10\n",
            "Add of two dice:7\n",
            "Add of two dice:5\n",
            "die1 in main() is: 10\n"
          ]
        }
      ],
      "source": [
        "import random\n",
        "print(\"1_dicesimulator\")\n",
        "\n",
        "def roll_dice():\n",
        "  die1:int = random.randint(1,6)\n",
        "  die2:int = random.randint(1,6)\n",
        "  total:int = die1 + die2\n",
        "  print(f'Add of two dice:{total}')\n",
        "\n",
        "def main():\n",
        "  die1:int = 10\n",
        "  print(\"die1 in main() start as:\" + str(die1))\n",
        "  roll_dice()\n",
        "  roll_dice()\n",
        "  roll_dice()\n",
        "  print(\"die1 in main() is: \" + str(die1))\n",
        "\n",
        "if __name__ == \"__main__\":\n",
        "  main()\n",
        "\n",
        "\n"
      ]
    },
    {
      "cell_type": "code",
      "source": [],
      "metadata": {
        "id": "JakWaf1cTBhX"
      },
      "execution_count": null,
      "outputs": []
    },
    {
      "cell_type": "code",
      "source": [
        "print(\"02_e=mc2.md\")\n",
        "\n",
        "def energy():\n",
        "  c:float = 299792458\n",
        "  m:float = float(input(\"Enter Kilos of mass:\"))\n",
        "  print(\"e = m * C^2\")\n",
        "  print(\"Mass = \" + str(m)  + \" kg\")\n",
        "  print(\"C = \" +str(c) + \" m/s\")\n",
        "  print(\"e =\" + str(m * c ** 2)+ \"jules\")\n",
        "\n",
        "if __name__ == \"__main__\":\n",
        "  energy()"
      ],
      "metadata": {
        "colab": {
          "base_uri": "https://localhost:8080/"
        },
        "id": "jjqlffvg5wbu",
        "outputId": "22da3919-73f3-4c2e-c5d0-42ecf97b2d9b"
      },
      "execution_count": null,
      "outputs": [
        {
          "output_type": "stream",
          "name": "stdout",
          "text": [
            "02_e=mc2.md\n",
            "Enter Kilos of mass:130\n",
            "e = m * C^2\n",
            "Mass = 130.0 kg\n",
            "C = 299792458 m/s\n",
            "e =1.1683817323578628e+19jules\n"
          ]
        }
      ]
    },
    {
      "cell_type": "code",
      "source": [
        "print(\"03_feet_to_inches\")\n",
        "inch : int = 12\n",
        "\n",
        "def foot():\n",
        "  feet:int = int(input(\"Enter feet and i will convert into inches:\"))\n",
        "  print(f'There are {inch * feet} inches in {feet} feet.')\n",
        "\n",
        "if __name__ == \"__main__\":\n",
        "    foot()\n",
        "\n"
      ],
      "metadata": {
        "colab": {
          "base_uri": "https://localhost:8080/"
        },
        "id": "JGQpoh77-VHD",
        "outputId": "bd541042-9a59-404b-e2c7-5fd43cfb7f65"
      },
      "execution_count": null,
      "outputs": [
        {
          "output_type": "stream",
          "name": "stdout",
          "text": [
            "03_feet_to_inches\n",
            "Enter feet and i will convert into inches:13\n",
            "There are 156 inches in 13 feet.\n"
          ]
        }
      ]
    },
    {
      "cell_type": "code",
      "source": [
        "import math\n",
        "print(\"04_pythagorean_theorem.md\")\n",
        "\n",
        "def traingle():\n",
        "  ab:float = float(input(\"Enter the length of the side ab.\"))\n",
        "  ac:float = float(input(\"Enter the length of the side ac.\"))\n",
        "  bc:float = math.sqrt(ab**2 + ac**2)\n",
        "  print(f\"The lenght o bc (the hypthenuse is : {bc})\")\n",
        "\n",
        "if __name__ == \"__main__\":\n",
        "    traingle()\n"
      ],
      "metadata": {
        "colab": {
          "base_uri": "https://localhost:8080/"
        },
        "id": "p5pBdYJ2M9Rn",
        "outputId": "8b6223c1-68e6-4553-d594-df19e719c493"
      },
      "execution_count": null,
      "outputs": [
        {
          "output_type": "stream",
          "name": "stdout",
          "text": [
            "04_pythagorean_theorem.md\n",
            "Enter the length of the side ab.4.9\n",
            "Enter the length of the side ac.7.9\n",
            "The lenght o bc (the hypthenuse is : 9.296235797353681)\n"
          ]
        }
      ]
    },
    {
      "cell_type": "code",
      "source": [
        "print(\"05_remainder_division.md\")\n",
        "\n",
        "def reminder():\n",
        "  num1:int = int(input(\"Enter an integer to be diveded:\"))\n",
        "  num2:int = int(input(\"Enter an integer to be diveded by:\"))\n",
        "  quotient:int = num1 // num2\n",
        "  remainder:int = num1 % num2\n",
        "  print(f\"the result of following division is {quotient} with the reminder of {remainder}\")\n",
        "if __name__ == \"__main__\":\n",
        "    reminder()\n"
      ],
      "metadata": {
        "colab": {
          "base_uri": "https://localhost:8080/"
        },
        "id": "E6P4KBmcQmVR",
        "outputId": "37d91671-c6b6-4659-94b6-9c848c4472ab"
      },
      "execution_count": null,
      "outputs": [
        {
          "output_type": "stream",
          "name": "stdout",
          "text": [
            "05_remainder_division.md\n",
            "Enter an integer to be diveded:45\n",
            "Enter an integer to be diveded by:24\n",
            "the result of following division is 1 with the reminder of 21\n"
          ]
        }
      ]
    },
    {
      "cell_type": "code",
      "source": [
        "import random\n",
        "print(\"06_rolldice.md\")\n",
        "\n",
        "def dice():\n",
        "  die1:int = random.randint(1,6)\n",
        "  die2:int = random.randint(1,6)\n",
        "  total:int = int(die1 + die2)\n",
        "  print(\"First die: \" + str(die1))\n",
        "  print(\"Second die: \"+ str(die2))\n",
        "  print(f\"Total of two dies : {total}\")\n",
        "if __name__ == \"__main__\":\n",
        "    dice()\n",
        "\n"
      ],
      "metadata": {
        "colab": {
          "base_uri": "https://localhost:8080/"
        },
        "id": "fwYr__WiTDsX",
        "outputId": "be4429f7-6c7f-494b-a984-94b7242f2157"
      },
      "execution_count": null,
      "outputs": [
        {
          "output_type": "stream",
          "name": "stdout",
          "text": [
            "06_rolldice.md\n",
            "First die: 5\n",
            "Second die: 1\n",
            "Total of two dies : 6\n"
          ]
        }
      ]
    },
    {
      "cell_type": "code",
      "source": [
        "print(\"06_seconds_in_year.md\")\n",
        "\n",
        "def second():\n",
        "  Days_Year: int = 365\n",
        "  Day_hour: int = 24\n",
        "  Hour_min: int = 60\n",
        "  Sec_min : int = 60\n",
        "  print(f\"There are \" + str(Days_Year * Day_hour * Hour_min * Sec_min)  +  \"seconds in a year!\")\n",
        "\n",
        "if __name__ == \"__main__\":\n",
        "    second()"
      ],
      "metadata": {
        "colab": {
          "base_uri": "https://localhost:8080/"
        },
        "id": "xtIxJ_mbVFBz",
        "outputId": "6238441d-9f70-4a12-d1d8-b3bffc437832"
      },
      "execution_count": null,
      "outputs": [
        {
          "output_type": "stream",
          "name": "stdout",
          "text": [
            "06_seconds_in_year.md\n",
            "There are 31536000seconds in a year!\n"
          ]
        }
      ]
    },
    {
      "cell_type": "code",
      "source": [
        "print(\"07_tiny_mad_lib.md\")\n",
        "\n",
        "def Sentence():\n",
        "  noun:str = str(input(\"Enter a noun:\"))\n",
        "  adjective:str = str(input(\"Enter a adjective:\"))\n",
        "  verb:str = str(input(\"Enter a verb:\"))\n",
        "  print(f\"Do you {verb}  {adjective}  {noun}\")\n",
        "\n",
        "if __name__ == \"__main__\":\n",
        "    Sentence()"
      ],
      "metadata": {
        "colab": {
          "base_uri": "https://localhost:8080/"
        },
        "id": "EiFXgwH9XPip",
        "outputId": "4e028088-bcbf-437b-bce4-4588b055bdb3"
      },
      "execution_count": null,
      "outputs": [
        {
          "output_type": "stream",
          "name": "stdout",
          "text": [
            "07_tiny_mad_lib.md\n",
            "Enter a noun:Ali\n",
            "Enter a adjective:dog\n",
            "Enter a verb:like\n",
            "Do you like  dog  Ali\n"
          ]
        }
      ]
    }
  ]
}