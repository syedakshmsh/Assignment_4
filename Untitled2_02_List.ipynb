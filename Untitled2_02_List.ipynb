{
  "nbformat": 4,
  "nbformat_minor": 0,
  "metadata": {
    "colab": {
      "provenance": [],
      "authorship_tag": "ABX9TyMXTfmKi66w7pBYVaogwPjU",
      "include_colab_link": true
    },
    "kernelspec": {
      "name": "python3",
      "display_name": "Python 3"
    },
    "language_info": {
      "name": "python"
    }
  },
  "cells": [
    {
      "cell_type": "markdown",
      "metadata": {
        "id": "view-in-github",
        "colab_type": "text"
      },
      "source": [
        "<a href=\"https://colab.research.google.com/github/syedakshmsh/Assignment_4/blob/main/Untitled2_02_List.ipynb\" target=\"_parent\"><img src=\"https://colab.research.google.com/assets/colab-badge.svg\" alt=\"Open In Colab\"/></a>"
      ]
    },
    {
      "cell_type": "code",
      "execution_count": 1,
      "metadata": {
        "id": "cxCuvoX6Ga1u",
        "colab": {
          "base_uri": "https://localhost:8080/"
        },
        "outputId": "83aa9a40-d092-42ff-ad88-e34c2c09629c"
      },
      "outputs": [
        {
          "output_type": "stream",
          "name": "stdout",
          "text": [
            "01_add_many_number.md\n",
            "15\n"
          ]
        }
      ],
      "source": [
        "print(\"01_add_many_number.md\")\n",
        "def num_1(numbers)->int:\n",
        "  num:int =0\n",
        "  for i in numbers:\n",
        "    num += i\n",
        "  return num\n",
        "\n",
        "def main():\n",
        "  numbers:list[int] = [1,2,3,4,5]\n",
        "  sum = num_1(numbers)\n",
        "  print(sum)\n",
        "\n",
        "if __name__ == '__main__':\n",
        "    main()"
      ]
    },
    {
      "cell_type": "code",
      "source": [
        "print('02_double_list')\n",
        "def main():\n",
        "  numbers:list[int] = [1,2,3,4,5]\n",
        "  for i in range(len(numbers)):\n",
        "   index = numbers[i]\n",
        "   numbers[i] = index * 2\n",
        "  print(numbers)\n",
        "\n",
        "\n",
        "if __name__ == '__main__':\n",
        "    main()\n",
        "\n",
        "\n"
      ],
      "metadata": {
        "colab": {
          "base_uri": "https://localhost:8080/"
        },
        "id": "lDEkYxGvQtSt",
        "outputId": "6bec55b7-c6cc-489e-93cb-78e8b5733bf1"
      },
      "execution_count": 20,
      "outputs": [
        {
          "output_type": "stream",
          "name": "stdout",
          "text": [
            "02_double_list\n",
            "[2, 4, 6, 8, 10]\n"
          ]
        }
      ]
    },
    {
      "cell_type": "code",
      "source": [
        "print('04_flowing_with_data_structures')\n",
        "\n",
        "def add_three(lst,data):\n",
        "  for i in range(3):\n",
        "    lst.append(data)\n",
        "\n",
        "def main():\n",
        "  message = input(\"Enter a message to copy, \")\n",
        "  lst = []\n",
        "  print(\"Before list\",lst)\n",
        "  add_three(lst,message)\n",
        "  print(\"After 1st:\",lst)\n",
        "\n",
        "if __name__ == '__main__':\n",
        "    main()\n",
        "\n",
        "\n"
      ],
      "metadata": {
        "colab": {
          "base_uri": "https://localhost:8080/"
        },
        "id": "YOz-Xle6R4U2",
        "outputId": "1eff6531-f800-454f-9c70-ec69ac02fe09"
      },
      "execution_count": 17,
      "outputs": [
        {
          "output_type": "stream",
          "name": "stdout",
          "text": [
            "04_flowing_with_data_structures\n",
            "Enter a message to copy, join\n",
            "Before list []\n",
            "After 1st: ['join', 'join', 'join']\n"
          ]
        }
      ]
    },
    {
      "cell_type": "code",
      "source": [
        "print('05_get_first_element')\n",
        "\n",
        "def get_first_element(lst):\n",
        "  print(lst[0])\n",
        "\n",
        "def get_lst():\n",
        "  lst = []\n",
        "  elem:str = input(\"Enter an element to add to the list, \")\n",
        "  while elem != \"\":\n",
        "    lst.append(elem)\n",
        "    elem = input(\"Enter an element to add to the list,\")\n",
        "  return lst\n",
        "def main():\n",
        "  lst = get_lst()\n",
        "  get_first_element(lst)\n",
        "\n",
        "\n",
        "if __name__ == '__main__':\n",
        "    main()\n"
      ],
      "metadata": {
        "colab": {
          "base_uri": "https://localhost:8080/"
        },
        "id": "9Vbu6VqfUVdH",
        "outputId": "63427525-45d7-4cf3-ed26-58a9b4240944"
      },
      "execution_count": 15,
      "outputs": [
        {
          "output_type": "stream",
          "name": "stdout",
          "text": [
            "05_get_first_element\n",
            "Enter an element to add to the list, b\n",
            "Enter an element to add to the list,i\n",
            "Enter an element to add to the list,p\n",
            "Enter an element to add to the list,t\n",
            "Enter an element to add to the list,w\n",
            "Enter an element to add to the list,u\n",
            "Enter an element to add to the list,\n",
            "b\n"
          ]
        }
      ]
    },
    {
      "cell_type": "code",
      "source": [
        "print('06_get_last_element')\n",
        "def get_last_element(lst):\n",
        "    print(lst[-1])\n",
        "\n",
        "def get_lst():\n",
        "  lst = []\n",
        "  elem:str = input(\"Enter an element to add to the list, \")\n",
        "  while elem != \"\":\n",
        "    lst.append(elem)\n",
        "    elem = input(\"Enter an element to add to the list,\")\n",
        "  return lst\n",
        "def main():\n",
        "  lst = get_lst()\n",
        "  get_last_element(lst)\n",
        "\n",
        "\n",
        "if __name__ == '__main__':\n",
        "    main()\n",
        "\n",
        "\n",
        "\n",
        "\n",
        "\n",
        "\n"
      ],
      "metadata": {
        "colab": {
          "base_uri": "https://localhost:8080/"
        },
        "id": "sSx1RZiEYmFL",
        "outputId": "7437964d-8c29-4b98-aa07-20dc1d257ae1"
      },
      "execution_count": 14,
      "outputs": [
        {
          "output_type": "stream",
          "name": "stdout",
          "text": [
            "06_get_last_element\n",
            "Enter an element to add to the list, y\n",
            "Enter an element to add to the list,i\n",
            "Enter an element to add to the list,i\n",
            "Enter an element to add to the list,p\n",
            "Enter an element to add to the list,h\n",
            "Enter an element to add to the list,p\n",
            "Enter an element to add to the list,\n",
            "p\n"
          ]
        }
      ]
    },
    {
      "cell_type": "code",
      "source": [
        "print('07_get_list')\n",
        "\n",
        "def main():\n",
        "  lst = []\n",
        "  val = input(\"Enter the value to add a list, \")\n",
        "  while  val:\n",
        "    lst.append(val)\n",
        "    val = input(\"Enter the value to add a list, \")\n",
        "  print(\"Here the list:\",lst)\n",
        "\n",
        "if __name__ == '__main__':\n",
        "    main()\n",
        "\n",
        "\n",
        "\n"
      ],
      "metadata": {
        "colab": {
          "base_uri": "https://localhost:8080/"
        },
        "id": "PkWhM_52hPmM",
        "outputId": "bfa53ac6-2476-4812-9c2d-6ccd34b835d2"
      },
      "execution_count": 11,
      "outputs": [
        {
          "output_type": "stream",
          "name": "stdout",
          "text": [
            "07_get_list\n",
            "Enter the value to add a list, ali\n",
            "Enter the value to add a list, man\n",
            "Enter the value to add a list, ji\n",
            "Enter the value to add a list, pii\n",
            "Enter the value to add a list, \n",
            "Here the list: ['ali', 'man', 'ji', 'pii']\n"
          ]
        }
      ]
    },
    {
      "cell_type": "code",
      "source": [
        "print('08_shorten')\n",
        "MAX_LENGHT:int = 3\n",
        "def shorten(lst):\n",
        "  while len(lst) > MAX_LENGHT:\n",
        "    last_element = lst.pop()\n",
        "    print(last_element)\n",
        "\n",
        "def get_list():\n",
        "  lst = []\n",
        "  element = input(\"Enter an element to add to the list, \")\n",
        "  while element != \"\":\n",
        "    lst.append(element)\n",
        "    element = input(\"Enter an element to add to the list,\")\n",
        "  return lst\n",
        "\n",
        "def main():\n",
        " lst = get_list()\n",
        " shorten(lst)\n",
        "\n",
        "\n",
        "if __name__ == '__main__':\n",
        "    main()\n",
        "\n"
      ],
      "metadata": {
        "colab": {
          "base_uri": "https://localhost:8080/"
        },
        "id": "7dq156RdjYVB",
        "outputId": "62de45da-5b93-49ec-db0c-eaeec0d66669"
      },
      "execution_count": 8,
      "outputs": [
        {
          "output_type": "stream",
          "name": "stdout",
          "text": [
            "08_shorten\n",
            "Enter an element to add to the list, sfh\n",
            "Enter an element to add to the list,uhf\n",
            "Enter an element to add to the list,hig\n",
            "Enter an element to add to the list,hiu\n",
            "Enter an element to add to the list,gui\n",
            "Enter an element to add to the list,dre\n",
            "Enter an element to add to the list,\n",
            "dre\n",
            "gui\n",
            "hiu\n"
          ]
        }
      ]
    }
  ]
}